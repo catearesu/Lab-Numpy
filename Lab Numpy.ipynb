{
 "cells": [
  {
   "cell_type": "code",
   "execution_count": 7,
   "metadata": {},
   "outputs": [],
   "source": [
    "#1. Import the NUMPY package under the name np.\n",
    "\n",
    "#[your code here]\n",
    "import numpy as np"
   ]
  },
  {
   "cell_type": "code",
   "execution_count": 8,
   "metadata": {},
   "outputs": [
    {
     "name": "stdout",
     "output_type": "stream",
     "text": [
      "Numpy version:  1.26.4\n",
      "Build Dependencies:\n",
      "  blas:\n",
      "    detection method: pkgconfig\n",
      "    found: true\n",
      "    include directory: /opt/anaconda3/envs/original/include\n",
      "    lib directory: /opt/anaconda3/envs/original/lib\n",
      "    name: openblas\n",
      "    openblas configuration: USE_64BITINT= DYNAMIC_ARCH=1 DYNAMIC_OLDER= NO_CBLAS=\n",
      "      NO_LAPACK=0 NO_LAPACKE= NO_AFFINITY=1 USE_OPENMP=0 CORE2 MAX_THREADS=128\n",
      "    pc file directory: /opt/anaconda3/envs/original/lib/pkgconfig\n",
      "    version: 0.3.21\n",
      "  lapack:\n",
      "    detection method: internal\n",
      "    found: true\n",
      "    include directory: unknown\n",
      "    lib directory: unknown\n",
      "    name: dep4429404432\n",
      "    openblas configuration: unknown\n",
      "    pc file directory: unknown\n",
      "    version: 1.26.4\n",
      "Compilers:\n",
      "  c:\n",
      "    args: -march=core2, -mtune=haswell, -mssse3, -ftree-vectorize, -fPIC, -fPIE, -fstack-protector-strong,\n",
      "      -O2, -pipe, -isystem, /opt/anaconda3/envs/original/include, -fdebug-prefix-map=/var/folders/c_/qfmhj66j0tn016nkx_th4hxm0000gp/T/abs_b7iptlxgej/croot/numpy_and_numpy_base_1708638622773/work=/usr/local/src/conda/numpy-base-1.26.4,\n",
      "      -fdebug-prefix-map=/opt/anaconda3/envs/original=/usr/local/src/conda-prefix,\n",
      "      -D_FORTIFY_SOURCE=2, -isystem, /opt/anaconda3/envs/original/include, -mmacosx-version-min=10.9\n",
      "    commands: x86_64-apple-darwin13.4.0-clang\n",
      "    linker: ld64\n",
      "    linker args: -Wl,-pie, -Wl,-headerpad_max_install_names, -Wl,-dead_strip_dylibs,\n",
      "      -Wl,-rpath,/opt/anaconda3/envs/original/lib, -L/opt/anaconda3/envs/original/lib,\n",
      "      -march=core2, -mtune=haswell, -mssse3, -ftree-vectorize, -fPIC, -fPIE, -fstack-protector-strong,\n",
      "      -O2, -pipe, -isystem, /opt/anaconda3/envs/original/include, -fdebug-prefix-map=/var/folders/c_/qfmhj66j0tn016nkx_th4hxm0000gp/T/abs_b7iptlxgej/croot/numpy_and_numpy_base_1708638622773/work=/usr/local/src/conda/numpy-base-1.26.4,\n",
      "      -fdebug-prefix-map=/opt/anaconda3/envs/original=/usr/local/src/conda-prefix,\n",
      "      -D_FORTIFY_SOURCE=2, -isystem, /opt/anaconda3/envs/original/include, -mmacosx-version-min=10.9\n",
      "    name: clang\n",
      "    version: 14.0.6\n",
      "  c++:\n",
      "    args: -march=core2, -mtune=haswell, -mssse3, -ftree-vectorize, -fPIC, -fPIE, -fstack-protector-strong,\n",
      "      -O2, -pipe, -stdlib=libc++, -fvisibility-inlines-hidden, -fmessage-length=0,\n",
      "      -isystem, /opt/anaconda3/envs/original/include, -fdebug-prefix-map=/var/folders/c_/qfmhj66j0tn016nkx_th4hxm0000gp/T/abs_b7iptlxgej/croot/numpy_and_numpy_base_1708638622773/work=/usr/local/src/conda/numpy-base-1.26.4,\n",
      "      -fdebug-prefix-map=/opt/anaconda3/envs/original=/usr/local/src/conda-prefix,\n",
      "      -D_FORTIFY_SOURCE=2, -isystem, /opt/anaconda3/envs/original/include, -mmacosx-version-min=10.9\n",
      "    commands: x86_64-apple-darwin13.4.0-clang++\n",
      "    linker: ld64\n",
      "    linker args: -Wl,-pie, -Wl,-headerpad_max_install_names, -Wl,-dead_strip_dylibs,\n",
      "      -Wl,-rpath,/opt/anaconda3/envs/original/lib, -L/opt/anaconda3/envs/original/lib,\n",
      "      -march=core2, -mtune=haswell, -mssse3, -ftree-vectorize, -fPIC, -fPIE, -fstack-protector-strong,\n",
      "      -O2, -pipe, -stdlib=libc++, -fvisibility-inlines-hidden, -fmessage-length=0,\n",
      "      -isystem, /opt/anaconda3/envs/original/include, -fdebug-prefix-map=/var/folders/c_/qfmhj66j0tn016nkx_th4hxm0000gp/T/abs_b7iptlxgej/croot/numpy_and_numpy_base_1708638622773/work=/usr/local/src/conda/numpy-base-1.26.4,\n",
      "      -fdebug-prefix-map=/opt/anaconda3/envs/original=/usr/local/src/conda-prefix,\n",
      "      -D_FORTIFY_SOURCE=2, -isystem, /opt/anaconda3/envs/original/include, -mmacosx-version-min=10.9\n",
      "    name: clang\n",
      "    version: 14.0.6\n",
      "  cython:\n",
      "    commands: cython\n",
      "    linker: cython\n",
      "    name: cython\n",
      "    version: 3.0.8\n",
      "Machine Information:\n",
      "  build:\n",
      "    cpu: x86_64\n",
      "    endian: little\n",
      "    family: x86_64\n",
      "    system: darwin\n",
      "  host:\n",
      "    cpu: x86_64\n",
      "    endian: little\n",
      "    family: x86_64\n",
      "    system: darwin\n",
      "Python Information:\n",
      "  path: /opt/anaconda3/envs/original/bin/python\n",
      "  version: '3.12'\n",
      "SIMD Extensions:\n",
      "  baseline:\n",
      "  - SSE\n",
      "  - SSE2\n",
      "  - SSE3\n",
      "  - SSSE3\n",
      "  found:\n",
      "  - SSE41\n",
      "  - POPCNT\n",
      "  - SSE42\n",
      "  - AVX\n",
      "  - F16C\n",
      "  - FMA3\n",
      "  - AVX2\n",
      "  not found:\n",
      "  - AVX512F\n",
      "  - AVX512CD\n",
      "  - AVX512_KNL\n",
      "  - AVX512_SKX\n",
      "  - AVX512_CLX\n",
      "  - AVX512_CNL\n",
      "  - AVX512_ICL\n",
      "\n"
     ]
    }
   ],
   "source": [
    "#2. Print the NUMPY version and the configuration.\n",
    "\n",
    "#[your code here]\n",
    "print(\"Numpy version: \", np.__version__)\n",
    "\n",
    "np.show_config()"
   ]
  },
  {
   "cell_type": "code",
   "execution_count": 9,
   "metadata": {},
   "outputs": [
    {
     "name": "stdout",
     "output_type": "stream",
     "text": [
      "[[[2 0 7 9 8]\n",
      "  [7 2 5 8 4]\n",
      "  [5 8 9 1 3]]\n",
      "\n",
      " [[8 7 4 6 1]\n",
      "  [0 9 4 5 4]\n",
      "  [5 1 5 3 0]]]\n"
     ]
    }
   ],
   "source": [
    "#3. Generate a 2x3x5 3-dimensional array with random values. Assign the array to variable \"a\"\n",
    "# Challenge: there are at least three easy ways that use numpy to generate random arrays. How many ways can you find?\n",
    "\n",
    "#[your code here]\n",
    "\n",
    "a = np.random.randint(10, size=(2, 3, 5))\n",
    "\n",
    "#4. Print a.\n",
    "print(a)\n"
   ]
  },
  {
   "cell_type": "code",
   "execution_count": 10,
   "metadata": {},
   "outputs": [
    {
     "name": "stdout",
     "output_type": "stream",
     "text": [
      "[[[1 1 1]\n",
      "  [1 1 1]]\n",
      "\n",
      " [[1 1 1]\n",
      "  [1 1 1]]\n",
      "\n",
      " [[1 1 1]\n",
      "  [1 1 1]]\n",
      "\n",
      " [[1 1 1]\n",
      "  [1 1 1]]\n",
      "\n",
      " [[1 1 1]\n",
      "  [1 1 1]]]\n"
     ]
    }
   ],
   "source": [
    "#5. Create a 5x2x3 3-dimensional array with all values equaling 1.\n",
    "#Assign the array to variable \"b\"\n",
    "\n",
    "#[your code here]\n",
    "b = np.ones((5, 2, 3), dtype=int)\n",
    "\n",
    "#6. Print b.\n",
    "print(b)"
   ]
  },
  {
   "cell_type": "code",
   "execution_count": 11,
   "metadata": {},
   "outputs": [
    {
     "name": "stdout",
     "output_type": "stream",
     "text": [
      "30\n",
      "30\n"
     ]
    },
    {
     "data": {
      "text/plain": [
       "True"
      ]
     },
     "execution_count": 11,
     "metadata": {},
     "output_type": "execute_result"
    }
   ],
   "source": [
    "#7. Do a and b have the same size? How do you prove that in Python code?\n",
    "#[your code here]\n",
    "print(a.size)\n",
    "print(b.size)\n",
    "\n",
    "np.size(a) == np.size(b)\n"
   ]
  },
  {
   "cell_type": "code",
   "execution_count": 12,
   "metadata": {},
   "outputs": [
    {
     "name": "stdout",
     "output_type": "stream",
     "text": [
      "(2, 3, 5)\n",
      "(5, 2, 3)\n"
     ]
    }
   ],
   "source": [
    "#8. Are you able to add a and b? Why or why not?\n",
    "\n",
    "#[your code here]\n",
    "# tienen el mismo size pero no el mismo shape, con diferente shape no se pueden sumar\n",
    "print(np.shape(a))\n",
    "print(np.shape(b))"
   ]
  },
  {
   "cell_type": "code",
   "execution_count": 13,
   "metadata": {},
   "outputs": [
    {
     "name": "stdout",
     "output_type": "stream",
     "text": [
      "[[[1 1 1 1 1]\n",
      "  [1 1 1 1 1]\n",
      "  [1 1 1 1 1]]\n",
      "\n",
      " [[1 1 1 1 1]\n",
      "  [1 1 1 1 1]\n",
      "  [1 1 1 1 1]]]\n"
     ]
    }
   ],
   "source": [
    "#9. Transpose b so that it has the same structure of a (i.e. become a 2x3x5 array). Assign the transposed array to varialbe \"c\".\n",
    "\n",
    "#[your code here]\n",
    "#c = np.reshape(b, (2, 3, 5))   \n",
    "c = b.reshape((2, 3, 5))\n",
    "print(c)\n"
   ]
  },
  {
   "cell_type": "code",
   "execution_count": 14,
   "metadata": {},
   "outputs": [
    {
     "name": "stdout",
     "output_type": "stream",
     "text": [
      "[[[ 3  1  8 10  9]\n",
      "  [ 8  3  6  9  5]\n",
      "  [ 6  9 10  2  4]]\n",
      "\n",
      " [[ 9  8  5  7  2]\n",
      "  [ 1 10  5  6  5]\n",
      "  [ 6  2  6  4  1]]]\n"
     ]
    }
   ],
   "source": [
    "#10. Try to add a and c. Now it should work. Assign the sum to varialbe \"d\". But why does it work now?\n",
    "\n",
    "#[your code here]\n",
    "d = np.array(a) + np.array(c)\n",
    "print(d)\n",
    "# funciona porque tienen el mismo shape (2,3,5)"
   ]
  },
  {
   "cell_type": "code",
   "execution_count": 15,
   "metadata": {},
   "outputs": [
    {
     "name": "stdout",
     "output_type": "stream",
     "text": [
      "[[[2 0 7 9 8]\n",
      "  [7 2 5 8 4]\n",
      "  [5 8 9 1 3]]\n",
      "\n",
      " [[8 7 4 6 1]\n",
      "  [0 9 4 5 4]\n",
      "  [5 1 5 3 0]]]\n",
      "[[[ 3  1  8 10  9]\n",
      "  [ 8  3  6  9  5]\n",
      "  [ 6  9 10  2  4]]\n",
      "\n",
      " [[ 9  8  5  7  2]\n",
      "  [ 1 10  5  6  5]\n",
      "  [ 6  2  6  4  1]]]\n"
     ]
    }
   ],
   "source": [
    "#11. Print a and d. Notice the difference and relation of the two array in terms of the values? Explain.\n",
    "\n",
    "#[your code here]\n",
    "print(a)\n",
    "print(d)\n",
    "# el array d son los números del array a +1 (porque el array c era de solo 1s)"
   ]
  },
  {
   "cell_type": "code",
   "execution_count": 16,
   "metadata": {},
   "outputs": [
    {
     "name": "stdout",
     "output_type": "stream",
     "text": [
      "[[[2 0 7 9 8]\n",
      "  [7 2 5 8 4]\n",
      "  [5 8 9 1 3]]\n",
      "\n",
      " [[8 7 4 6 1]\n",
      "  [0 9 4 5 4]\n",
      "  [5 1 5 3 0]]]\n"
     ]
    }
   ],
   "source": [
    "#12. Multiply a and c. Assign the result to e.\n",
    "\n",
    "#[your code here]\n",
    "e = np.array(a) * np.array(c)\n",
    "print(e)"
   ]
  },
  {
   "cell_type": "code",
   "execution_count": 17,
   "metadata": {},
   "outputs": [
    {
     "data": {
      "text/plain": [
       "array([[[ True,  True,  True,  True,  True],\n",
       "        [ True,  True,  True,  True,  True],\n",
       "        [ True,  True,  True,  True,  True]],\n",
       "\n",
       "       [[ True,  True,  True,  True,  True],\n",
       "        [ True,  True,  True,  True,  True],\n",
       "        [ True,  True,  True,  True,  True]]])"
      ]
     },
     "execution_count": 17,
     "metadata": {},
     "output_type": "execute_result"
    }
   ],
   "source": [
    "#13. Does e equal to a? Why or why not?\n",
    "\n",
    "#[your code here]\n",
    "np.array(a) == np.array(e)\n",
    "# como la multiplicación de cualquier número por 1 da el mismo elemento, \n",
    "# pues el array e es igual al array a porque es la multiplicación de cada elemento de a por 1\n"
   ]
  },
  {
   "cell_type": "code",
   "execution_count": 18,
   "metadata": {},
   "outputs": [
    {
     "name": "stdout",
     "output_type": "stream",
     "text": [
      "10\n",
      "1\n",
      "5.666666666666667\n"
     ]
    }
   ],
   "source": [
    "#14. Identify the max, min, and mean values in d. Assign those values to variables \"d_max\", \"d_min\", and \"d_mean\"\n",
    "\n",
    "#[your code here]\n",
    "\n",
    "d_max = np.max(d)\n",
    "d_min = np.min(d)\n",
    "d_mean = np.mean(d)\n",
    "print(d_max)\n",
    "print(d_min)\n",
    "print(d_mean)"
   ]
  },
  {
   "cell_type": "code",
   "execution_count": 20,
   "metadata": {},
   "outputs": [
    {
     "name": "stdout",
     "output_type": "stream",
     "text": [
      "[[[0 0 0 0 0]\n",
      "  [0 0 0 0 0]\n",
      "  [0 0 0 0 0]]\n",
      "\n",
      " [[0 0 0 0 0]\n",
      "  [0 0 0 0 0]\n",
      "  [0 0 0 0 0]]]\n",
      "[[[ 3  1  8 10  9]\n",
      "  [ 8  3  6  9  5]\n",
      "  [ 6  9 10  2  4]]\n",
      "\n",
      " [[ 9  8  5  7  2]\n",
      "  [ 1 10  5  6  5]\n",
      "  [ 6  2  6  4  1]]]\n",
      "5\n"
     ]
    }
   ],
   "source": [
    "#15. Now we want to label the values in d. First create an empty array \"f\" with the same shape (i.e. 2x3x5) as d using `np.empty`.\n",
    "\n",
    "#[your code here]\n",
    "f = np.zeros_like(d)\n",
    "print(f)\n",
    "print(d)\n",
    "# comentario para mi\n",
    "# print(d.shape[2]) #shape of d (2,3,5) / segùn el indice me dice la dimensión, las filas o las columnas\n"
   ]
  },
  {
   "cell_type": "code",
   "execution_count": 22,
   "metadata": {},
   "outputs": [
    {
     "name": "stdout",
     "output_type": "stream",
     "text": [
      "[[[0 0 0 0 0]\n",
      "  [0 0 0 0 0]\n",
      "  [0 0 0 0 0]]\n",
      "\n",
      " [[0 0 0 0 0]\n",
      "  [0 0 0 0 0]\n",
      "  [0 0 0 0 0]]]\n"
     ]
    }
   ],
   "source": [
    "h = np.zeros((2, 3, 5), dtype = int)\n",
    "print(h)\n"
   ]
  },
  {
   "cell_type": "code",
   "execution_count": 21,
   "metadata": {},
   "outputs": [
    {
     "name": "stdout",
     "output_type": "stream",
     "text": [
      "[[[0 0 0 0 0]\n",
      "  [0 0 0 0 0]\n",
      "  [0 0 0 0 0]]\n",
      "\n",
      " [[0 0 0 0 0]\n",
      "  [0 0 0 0 0]\n",
      "  [0 0 0 0 0]]]\n"
     ]
    }
   ],
   "source": [
    "g = np.empty((2, 3, 5), dtype = int)\n",
    "print(g)"
   ]
  },
  {
   "cell_type": "code",
   "execution_count": 23,
   "metadata": {},
   "outputs": [
    {
     "name": "stdout",
     "output_type": "stream",
     "text": [
      "[[[ 25   0  75 100  75]\n",
      "  [ 75  25  75  75  25]\n",
      "  [ 75  75 100  25  25]]\n",
      "\n",
      " [[ 75  75  25  75  25]\n",
      "  [  0 100  25  75  25]\n",
      "  [ 75  25  75  25   0]]]\n",
      "[[[ 3  1  8 10  9]\n",
      "  [ 8  3  6  9  5]\n",
      "  [ 6  9 10  2  4]]\n",
      "\n",
      " [[ 9  8  5  7  2]\n",
      "  [ 1 10  5  6  5]\n",
      "  [ 6  2  6  4  1]]]\n"
     ]
    }
   ],
   "source": [
    "\"\"\"\n",
    "#16. Populate the values in f. For each value in d, if it's larger than d_min but smaller than d_mean, assign 25 to the corresponding value in f.\n",
    "If a value in d is larger than d_mean but smaller than d_max, assign 75 to the corresponding value in f.\n",
    "If a value equals to d_mean, assign 50 to the corresponding value in f.\n",
    "Assign 0 to the corresponding value(s) in f for d_min in d.\n",
    "Assign 100 to the corresponding value(s) in f for d_max in d.\n",
    "In the end, f should have only the following values: 0, 25, 50, 75, and 100.\n",
    "Note: you don't have to use Numpy in this question.\n",
    "\"\"\"\n",
    "\n",
    "#[your code here]\n",
    "for i in range(d.shape[0]):\n",
    "    for k in range(d.shape[1]):\n",
    "        for z in range(d.shape[2]):\n",
    "            if d[i][k][z] > d_mean and d[i][k][z] < d_max:\n",
    "                f[i][k][z] = 75\n",
    "            elif d[i][k][z] == d_mean:\n",
    "                f[i][k][z] = 50\n",
    "            elif d[i][k][z] == d_min:\n",
    "                f[i][k][z] = 0\n",
    "            elif d[i][k][z] == d_max:\n",
    "                f[i][k][z] = 100\n",
    "            elif d[i][k][z] > d_min and d[i][k][z] < d_mean:\n",
    "                f[i][k][z] = 25\n",
    "\n",
    "print(f)\n",
    "print(d)"
   ]
  },
  {
   "cell_type": "code",
   "execution_count": 25,
   "metadata": {},
   "outputs": [
    {
     "name": "stdout",
     "output_type": "stream",
     "text": [
      "[[[ 3  1  8 10  9]\n",
      "  [ 8  3  6  9  5]\n",
      "  [ 6  9 10  2  4]]\n",
      "\n",
      " [[ 9  8  5  7  2]\n",
      "  [ 1 10  5  6  5]\n",
      "  [ 6  2  6  4  1]]]\n",
      "[[[ 25   0  75 100  75]\n",
      "  [ 75  25  75  75  25]\n",
      "  [ 75  75 100  25  25]]\n",
      "\n",
      " [[ 75  75  25  75  25]\n",
      "  [  0 100  25  75  25]\n",
      "  [ 75  25  75  25   0]]]\n"
     ]
    }
   ],
   "source": [
    "\"\"\"\n",
    "#17. Print d and f. Do you have your expected f?\n",
    "For instance, if your d is:\n",
    "array([[[1.85836099, 1.67064465, 1.62576044, 1.40243961, 1.88454931],\n",
    "        [1.75354326, 1.69403643, 1.36729252, 1.61415071, 1.12104981],\n",
    "        [1.72201435, 1.1862918 , 1.87078449, 1.7726778 , 1.88180042]],\n",
    "\n",
    "       [[1.44747908, 1.31673383, 1.02000951, 1.52218947, 1.97066381],\n",
    "        [1.79129243, 1.74983003, 1.96028037, 1.85166831, 1.65450881],\n",
    "        [1.18068344, 1.9587381 , 1.00656599, 1.93402165, 1.73514584]]])\n",
    "\n",
    "Your f should be:\n",
    "array([[[ 75.,  75.,  75.,  25.,  75.],\n",
    "        [ 75.,  75.,  25.,  25.,  25.],\n",
    "        [ 75.,  25.,  75.,  75.,  75.]],\n",
    "\n",
    "       [[ 25.,  25.,  25.,  25., 100.],\n",
    "        [ 75.,  75.,  75.,  75.,  75.],\n",
    "        [ 25.,  75.,   0.,  75.,  75.]]])\n",
    "\"\"\"\n",
    "\n",
    "#[your code here]\n",
    "print(d)\n",
    "print(f)"
   ]
  },
  {
   "cell_type": "code",
   "execution_count": 26,
   "metadata": {},
   "outputs": [
    {
     "name": "stdout",
     "output_type": "stream",
     "text": [
      "[[['B' 'A' 'D' 'E' 'D']\n",
      "  ['D' 'B' 'D' 'D' 'B']\n",
      "  ['D' 'D' 'E' 'B' 'B']]\n",
      "\n",
      " [['D' 'D' 'B' 'D' 'B']\n",
      "  ['A' 'E' 'B' 'D' 'B']\n",
      "  ['D' 'B' 'D' 'B' 'A']]]\n"
     ]
    }
   ],
   "source": [
    "\"\"\"\n",
    "#18. Bonus question: instead of using numbers (i.e. 0, 25, 50, 75, and 100), how to use string values \n",
    "(\"A\", \"B\", \"C\", \"D\", and \"E\") to label the array elements? You are expecting the result to be:\n",
    "array([[[ 'D',  'D',  'D',  'B',  'D'],\n",
    "        [ 'D',  'D',  'B',  'B',  'B'],\n",
    "        [ 'D',  'B',  'D',  'D',  'D']],\n",
    "\n",
    "       [[ 'B',  'B',  'B',  'B',  'E'],\n",
    "        [ 'D',  'D',  'D',  'D',  'D'],\n",
    "        [ 'B',  'D',   'A',  'D', 'D']]])\n",
    "Again, you don't need Numpy in this question.\n",
    "\"\"\"\n",
    "\n",
    "#[your code here] \n",
    "s = np.empty((2, 3, 5), dtype = str)\n",
    "for i in range(d.shape[0]):\n",
    "    for k in range(d.shape[1]):\n",
    "        for z in range(d.shape[2]):\n",
    "            if d[i][k][z] > d_mean and d[i][k][z] < d_max:\n",
    "                s[i][k][z] = \"D\"\n",
    "            elif d[i][k][z] == d_mean:\n",
    "                s[i][k][z] = \"C\"\n",
    "            elif d[i][k][z] == d_min:\n",
    "                s[i][k][z] = \"A\"\n",
    "            elif d[i][k][z] == d_max:\n",
    "                s[i][k][z] = \"E\"\n",
    "            elif d[i][k][z] > d_min and d[i][k][z] < d_mean:\n",
    "                s[i][k][z] = \"B\"\n",
    "\n",
    "print(s)"
   ]
  }
 ],
 "metadata": {
  "kernelspec": {
   "display_name": "original",
   "language": "python",
   "name": "python3"
  },
  "language_info": {
   "codemirror_mode": {
    "name": "ipython",
    "version": 3
   },
   "file_extension": ".py",
   "mimetype": "text/x-python",
   "name": "python",
   "nbconvert_exporter": "python",
   "pygments_lexer": "ipython3",
   "version": "3.12.5"
  }
 },
 "nbformat": 4,
 "nbformat_minor": 2
}
